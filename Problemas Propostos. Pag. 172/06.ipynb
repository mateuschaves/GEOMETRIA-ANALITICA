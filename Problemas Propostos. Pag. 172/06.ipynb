{
 "cells": [
  {
   "cell_type": "markdown",
   "metadata": {},
   "source": [
    "<b>Construir o gráfico e encontrar o foco e uma equação da diretriz.</b>"
   ]
  },
  {
   "cell_type": "markdown",
   "metadata": {},
   "source": [
    "<b>6. $y^2 + 3x = 0$</b><br><br>\n",
    "<b>Arrumando a equação</b><br><br>\n",
    "$y^2 = -3x$<br><br>\n",
    "$2p = -3$, logo<br><br>\n",
    "$p = -\\frac{3}{2}$<br><br>\n",
    "<b>Achando o foco da parábola</b><br><br><br>\n",
    "$F = \\frac{p}{2}$<br><br>\n",
    "$F = \\frac{-\\frac{3}{2}}{2}$<br><br>\n",
    "$F = -\\frac{3}{2} \\cdot \\frac{1}{2}$<br><br>\n",
    "$F = -\\frac{3}{4}$<br><br>\n",
    "$F = (-\\frac{3}{4}, 0)$<br><br>\n",
    "<b>Achando a diretriz</b><br><br>\n",
    "$D = -\\frac{p}{2}$<br><br>\n",
    "$D = -(-\\frac{3}{4})$<br><br>\n",
    "$D : x = \\frac{3}{4}$<br><br>\n",
    "$V(0,0)$<br><br>\n",
    "$F(-\\frac{3}{4},0)$"
   ]
  },
  {
   "cell_type": "markdown",
   "metadata": {},
   "source": [
    "<b>Gráfico da parábola</b>"
   ]
  },
  {
   "cell_type": "code",
   "execution_count": 3,
   "metadata": {},
   "outputs": [
    {
     "data": {
      "image/png": "[encoded data removed]",
      "text/plain": [
       "<matplotlib.figure.Figure at 0x297c25ecba8>"
      ]
     },
     "metadata": {},
     "output_type": "display_data"
    }
   ],
   "source": [
    "from sympy import *\n",
    "from sympy.plotting import plot_implicit\n",
    "x, y = symbols(\"x y\")\n",
    "plot_implicit(Eq((y-0)**2, -3*(x+0)), (x,-3,3), (y,-3,3),\n",
    "title=u'Gráfico da parábola', xlabel='x', ylabel='y');"
   ]
  }
 ],
 "metadata": {
  "kernelspec": {
   "display_name": "Python 3",
   "language": "python",
   "name": "python3"
  },
  "language_info": {
   "codemirror_mode": {
    "name": "ipython",
    "version": 3
   },
   "file_extension": ".py",
   "mimetype": "text/x-python",
   "name": "python",
   "nbconvert_exporter": "python",
   "pygments_lexer": "ipython3",
   "version": "3.6.4"
  }
 },
 "nbformat": 4,
 "nbformat_minor": 2
}
