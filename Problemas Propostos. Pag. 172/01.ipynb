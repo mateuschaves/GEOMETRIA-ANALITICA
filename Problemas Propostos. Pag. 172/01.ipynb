{
 "cells": [
  {
   "cell_type": "markdown",
   "metadata": {},
   "source": [
    "<b>Construir o gráfico e encontrar o foco e uma equação da diretriz.</b>"
   ]
  },
  {
   "cell_type": "markdown",
   "metadata": {},
   "source": [
    "<b>1)</b> $x^2 = -4y$"
   ]
  },
  {
   "cell_type": "markdown",
   "metadata": {},
   "source": [
    "<b> $2p = -4$, logo </b><br><br>\n",
    "$P = -2$<br><br>\n",
    "<b>Calculando o foco</b><br><br>\n",
    "$F = \\frac{P}{2}$<br><br>\n",
    "$F = -\\frac{2}{2}$<br><br>\n",
    "$F = 1$, $F(0,-1)$<br><br>\n",
    "<b>Calculando a diretriz</b><br><br>\n",
    "$d = -\\frac{p}{2}$<br><br>\n",
    "$d = -\\frac{2}{2}$<br><br>\n",
    "$d : y = - 1$<br><br>\n",
    "$V(0,0)$<br><br>\n",
    "$F(0,-1)$"
   ]
  }
 ],
 "metadata": {
  "kernelspec": {
   "display_name": "Python 3",
   "language": "python",
   "name": "python3"
  },
  "language_info": {
   "codemirror_mode": {
    "name": "ipython",
    "version": 3
   },
   "file_extension": ".py",
   "mimetype": "text/x-python",
   "name": "python",
   "nbconvert_exporter": "python",
   "pygments_lexer": "ipython3",
   "version": "3.6.4"
  }
 },
 "nbformat": 4,
 "nbformat_minor": 2
}
