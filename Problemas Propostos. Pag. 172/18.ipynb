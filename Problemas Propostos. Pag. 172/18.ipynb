{
 "cells": [
  {
   "cell_type": "markdown",
   "metadata": {},
   "source": [
    "<b>Traçar um esboço do gráfico e obter uma equação da parábola que satisfaça as condições dadas.</b>"
   ]
  },
  {
   "cell_type": "markdown",
   "metadata": {},
   "source": [
    "<b>18. Vértice:$V(-2,3)$; Foco: $F(-2,1)$</b>"
   ]
  },
  {
   "cell_type": "markdown",
   "metadata": {},
   "source": [
    "<b>Como o vértice da parábola se encontra fora da origem e está paralela ao eixo $y$ a sua equação é dada por $(x-h)^2 = 2p(y-k)$</b><br><br>\n",
    "<b>Substituindo os pontos do vértice por $x = -2$ e $y = 3$ temos:</b><br><br>\n",
    "$(x -(-2))^2 = 2p(y-3)$<br><br>\n",
    "$(x+2)^2 = 2p(y-3)$<br><br>\n",
    "<b>Achando o valor de $p$<b><br><br>\n",
    "$\\frac{p}{2} = \\sqrt{(-2-(-2))^2 + (1-3)^2}$<br><br>\n",
    "$\\frac{p}{2} = \\sqrt{0 + -2^2}$<br><br>\n",
    "$\\frac{p}{2} = \\pm \\sqrt{4}$<br><br>\n",
    "$\\frac{p}{2} = -2$<br><br>\n",
    "$p = -4$<br><br>\n",
    "<b>Substituindo $p$ na fórmula</b><br><br>\n",
    "$(x+2)^2 = 2\\cdot -4 \\cdot (y-3)$<br><br>\n",
    "$x^2 + 4x + 4 = -8y + 24$<br><br>\n",
    "$x^2 + 4x + 8y - 20 = 0$<br><br>\n",
    "<b>Gráfico da parábola</b><br><br>"
   ]
  },
  {
   "cell_type": "code",
   "execution_count": 10,
   "metadata": {},
   "outputs": [
    {
     "data": {
      "image/png": "[encoded data removed]",
      "text/plain": [
       "<matplotlib.figure.Figure at 0x28d3776b198>"
      ]
     },
     "metadata": {},
     "output_type": "display_data"
    }
   ],
   "source": [
    "from sympy import *\n",
    "from sympy.plotting import plot_implicit\n",
    "x, y = symbols(\"x y\")\n",
    "plot_implicit(Eq((x+2)**2, -8*(y-3)), (x,-10,10), (y,-5,5),\n",
    "title=u'Gráfico da parábola', xlabel='x', ylabel='y');"
   ]
  }
 ],
 "metadata": {
  "kernelspec": {
   "display_name": "Python 3",
   "language": "python",
   "name": "python3"
  },
  "language_info": {
   "codemirror_mode": {
    "name": "ipython",
    "version": 3
   },
   "file_extension": ".py",
   "mimetype": "text/x-python",
   "name": "python",
   "nbconvert_exporter": "python",
   "pygments_lexer": "ipython3",
   "version": "3.6.4"
  }
 },
 "nbformat": 4,
 "nbformat_minor": 2
}
