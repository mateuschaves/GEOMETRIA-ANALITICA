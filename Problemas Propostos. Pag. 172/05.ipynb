{
 "cells": [
  {
   "cell_type": "markdown",
   "metadata": {},
   "source": [
    "<b>Construir o gráfico e encontrar o foco e uma equação da diretriz.</b>"
   ]
  },
  {
   "cell_type": "markdown",
   "metadata": {},
   "source": [
    "<b>5. $y^2 - x = 0$</b>"
   ]
  },
  {
   "cell_type": "markdown",
   "metadata": {},
   "source": [
    "<b>Arrumando a equação</b><br><br>\n",
    "$y^2 = x$<br><br>\n",
    "$2p = 1$,<b>logo</b><br><br>\n",
    "$p = \\frac{1}{2}$<br><br><br>\n",
    "<b>Calculando o foco</b><br><br>\n",
    "$F = \\frac{p}{2}$<br><br>\n",
    "$F = \\frac{\\frac{1}{2}}{2}$<br><br>\n",
    "$F = \\frac{1}{2}\\cdot \\frac{1}{2}$<br><br>\n",
    "$F = \\frac{1}{4}$<br><br>\n",
    "$F(\\frac{1}{4},0)$<br><br><br>\n",
    "<b>Calculando a diretriz</b><br><br>\n",
    "$d = -\\frac{p}{2}$<br><br>\n",
    "$d = -(\\frac{1}{4})$<br><br>\n",
    "$d : x = -\\frac{1}{4}$<br><br>\n",
    "$V(0,0)$<br><br>\n",
    "$F(\\frac{1}{4},0)$"
   ]
  },
  {
   "cell_type": "markdown",
   "metadata": {},
   "source": [
    "<b>Gráfico da parábola</b>"
   ]
  },
  {
   "cell_type": "code",
   "execution_count": 4,
   "metadata": {},
   "outputs": [
    {
     "data": {
      "image/png": "[encoded data removed]",
      "text/plain": [
       "<matplotlib.figure.Figure at 0x28f90f84630>"
      ]
     },
     "metadata": {},
     "output_type": "display_data"
    }
   ],
   "source": [
    "from sympy import *\n",
    "from sympy.plotting import plot_implicit\n",
    "x, y = symbols(\"x y\")\n",
    "plot_implicit(Eq((y-0)**2, 1*(x+0)), (x,-3,3), (y,-3,3),\n",
    "title=u'Gráfico da parábola', xlabel='x', ylabel='y');"
   ]
  }
 ],
 "metadata": {
  "kernelspec": {
   "display_name": "Python 3",
   "language": "python",
   "name": "python3"
  },
  "language_info": {
   "codemirror_mode": {
    "name": "ipython",
    "version": 3
   },
   "file_extension": ".py",
   "mimetype": "text/x-python",
   "name": "python",
   "nbconvert_exporter": "python",
   "pygments_lexer": "ipython3",
   "version": "3.6.4"
  }
 },
 "nbformat": 4,
 "nbformat_minor": 2
}
