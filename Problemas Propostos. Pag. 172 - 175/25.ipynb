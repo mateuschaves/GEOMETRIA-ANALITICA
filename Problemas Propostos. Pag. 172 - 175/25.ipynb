{
 "cells": [
  {
   "cell_type": "markdown",
   "metadata": {},
   "source": [
    "<b>Traçar um esboço do gráfico e obter uma equação da parábola que satisfaça as condições dadas.</b>"
   ]
  },
  {
   "cell_type": "markdown",
   "metadata": {},
   "source": [
    "<b>25. Vértice: $V(4,-3)$, eixo paralelo ao eixo dos x, passando pelo ponto $P(2,1)$</b>"
   ]
  },
  {
   "cell_type": "markdown",
   "metadata": {},
   "source": [
    "<b>Se a parábola é paralela ao eixo dos $x$, temos que sua equação é dada por $(y-k)^2 = 2p(x-h)$</b><br><br>\n",
    "<b>Descobrindo o valor de $p$ substituindo $V(4,-3)$ e $P(2,1)$</b><br><br>\n",
    "$(-3-3)^2 = 2p(4-2)$<br><br>\n",
    "$(-4)^2 = 2p(2)$<br><br>\n",
    "$16 = 4p$<br><br>\n",
    "<b>$p$ precisa ser negativo para passar pelo ponto $P(2,1)$</b><br><br>\n",
    "$-4 = p$<br><br>\n",
    "<b>Substituindo os pontos na equação da parábola</b><br><br>\n",
    "$(y-(-3))^2 = 2\\cdot -4 \\cdot (x-4)$<br><br>\n",
    "$(y+3)^2 = -8(x-4)$<br><br>\n",
    "$y^2 + 6y + 9 = -8x + 32$<br><br>\n",
    "$y^2 + 6y + 8x - 23 = 0$<br><br>\n",
    "<b>Gráfico da parábola</b>"
   ]
  },
  {
   "cell_type": "code",
   "execution_count": 3,
   "metadata": {},
   "outputs": [
    {
     "data": {
      "image/png": "[encoded data removed]",
      "text/plain": [
       "<matplotlib.figure.Figure at 0x20d3c526f98>"
      ]
     },
     "metadata": {},
     "output_type": "display_data"
    }
   ],
   "source": [
    "from sympy import *\n",
    "from sympy.plotting import plot_implicit\n",
    "x, y = symbols(\"x y\")\n",
    "plot_implicit(Eq((y+3)**2, -8*(x-4)), (x,-20,20), (y,-20,20),\n",
    "title=u'Gráfico da parábola', xlabel='x', ylabel='y');"
   ]
  }
 ],
 "metadata": {
  "kernelspec": {
   "display_name": "Python 3",
   "language": "python",
   "name": "python3"
  },
  "language_info": {
   "codemirror_mode": {
    "name": "ipython",
    "version": 3
   },
   "file_extension": ".py",
   "mimetype": "text/x-python",
   "name": "python",
   "nbconvert_exporter": "python",
   "pygments_lexer": "ipython3",
   "version": "3.6.4"
  }
 },
 "nbformat": 4,
 "nbformat_minor": 2
}
