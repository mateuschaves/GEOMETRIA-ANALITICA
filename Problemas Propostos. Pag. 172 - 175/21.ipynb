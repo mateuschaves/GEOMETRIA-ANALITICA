{
 "cells": [
  {
   "cell_type": "markdown",
   "metadata": {},
   "source": [
    "<b>Traçar um esboço do gráfico e obter uma equação da parábola que satisfaça as condições dadas.</b>"
   ]
  },
  {
   "cell_type": "markdown",
   "metadata": {},
   "source": [
    "<b>21. Vértice: $V(0,-2)$; diretriz: $2x-3=0$</b>"
   ]
  },
  {
   "cell_type": "markdown",
   "metadata": {},
   "source": [
    "<b>Arrumando a equação da diretriz</b><br><br>\n",
    "$d: x = \\frac{3}{2}$<br><br><br>\n",
    "<b>Fazendo um esboço é possivel perceber que a parábola é paralela ao eixo $x$, logo sua équação é dada por $(y-k)^2 = 2p(x-h)$</b><br><br>\n",
    "<b>Substituindo os pontos do vértice por $x=0$ e $y=-2$</b><br><br>\n",
    "$(y-(-2))^2 = 2p(x-0)$<br><br>\n",
    "$(y+2)^2 = 2px$<br><br>\n",
    "<b>Achando o valor de $p$, utilizando a coordenada da diretriz $D(\\frac{3}{2},-2)$</b><br><br>\n",
    "$\\frac{p}{2} = \\sqrt{(0-\\frac{3}{2})^2+(-2-(-2))^2}$<br><br> \n",
    "$\\frac{p}{2} = \\sqrt{(-\\frac{3}{2})^2 + 0}$<br><br>\n",
    "$\\frac{p}{2} = \\pm \\sqrt{\\frac{9}{4}}$<br><br>\n",
    "$\\frac{p}{2} = -\\frac{3}{2}$<br><br>\n",
    "$p = -3$<br><br>\n",
    "<b>Substituindo $p$ na fórmula</b><br><br>\n",
    "$(y+2)^2 = 2 \\cdot -3 \\cdot x$<br><br>\n",
    "$(y+2)^2 = -6x$<br><br>\n",
    "$y^2 + 4y + 4 = -6x$<br><br>\n",
    "$y^2 + 4y + 6x + 4 = 0$<br><br>\n",
    "<b>Gráfico da parábola</b>"
   ]
  },
  {
   "cell_type": "code",
   "execution_count": 5,
   "metadata": {},
   "outputs": [
    {
     "data": {
      "image/png": "[encoded data removed]",
      "text/plain": [
       "<matplotlib.figure.Figure at 0x26a149ac630>"
      ]
     },
     "metadata": {},
     "output_type": "display_data"
    }
   ],
   "source": [
    "from sympy import *\n",
    "from sympy.plotting import plot_implicit\n",
    "x, y = symbols(\"x y\")\n",
    "plot_implicit(Eq((y+2)**2, -6*(x+0)), (x,-20,20), (y,-20,20),\n",
    "title=u'Gráfico da parábola', xlabel='x', ylabel='y');"
   ]
  }
 ],
 "metadata": {
  "kernelspec": {
   "display_name": "Python 3",
   "language": "python",
   "name": "python3"
  },
  "language_info": {
   "codemirror_mode": {
    "name": "ipython",
    "version": 3
   },
   "file_extension": ".py",
   "mimetype": "text/x-python",
   "name": "python",
   "nbconvert_exporter": "python",
   "pygments_lexer": "ipython3",
   "version": "3.6.4"
  }
 },
 "nbformat": 4,
 "nbformat_minor": 2
}
