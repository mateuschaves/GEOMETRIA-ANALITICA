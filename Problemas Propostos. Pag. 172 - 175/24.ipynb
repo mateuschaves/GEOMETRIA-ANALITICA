{
 "cells": [
  {
   "cell_type": "markdown",
   "metadata": {},
   "source": [
    "<b>Traçar um esboço do gráfico e obter uma equação da parábola que satisfaça as condições dadas.</b>"
   ]
  },
  {
   "cell_type": "markdown",
   "metadata": {},
   "source": [
    "<b>24. Foco:$F(3,-1)$; diretriz: $2x - 1 = 0$</b><br><br>"
   ]
  },
  {
   "cell_type": "markdown",
   "metadata": {},
   "source": [
    "<b>Arrumando a equação da diretriz</b><br><br>\n",
    "$d: x = \\frac{1}{2}$<br><br><br>\n",
    "<b>Fazendo um esboço é possível perceber que a parábola é paralela ao eixo $x$, logo sua equação é dada por $(y-k)^2 = 2p(x-h)$</b><br><br>\n",
    "\n",
    "<b>Sabendo que a distância da diretriz até o foco é $p$, podemos calcular sua distância para achar $\\frac{p}{2}$ usando o ponto$P(\\frac{1}{2},-1)$ da diretriz</b><br><br>\n",
    "$p = \\sqrt{(3-\\frac{1}{2})^2 + (-1-(-1))^2}$<br><br>\n",
    "$p = \\sqrt{(\\frac{5}{2})^2 + 0}$<br><br>\n",
    "$p = \\pm \\sqrt{\\frac{25}{4}}$<br><br>\n",
    "$p =  \\frac{5}{2}$<br><br>\n",
    "$\\frac{p}{2} = \\frac{5}{4}$<br><br>\n",
    "<b>Somando $\\frac{p}{2}$ no eixo $x$ da diretriz, obtemos as coordenadas do vértice</b><br><br>\n",
    "$V(\\frac{7}{4},-1)$<br><br>\n",
    "<b>Substituindo agora os pontos dos vértice e o valor de $p$ na fórmula, temos que</b><br><br>\n",
    "$(y-(-1))^2 = 2 \\cdot \\frac{5}{2} \\cdot (x-\\frac{7}{4}) $<br><br>\n",
    "$(y+1)^2 = 5(x-\\frac{7}{4})$<br><br>\n",
    "$y^2 + 2y + 1 = 5x - \\frac{35}{4}$<br><br>\n",
    "$y^2 + 2y - 5x + 1 + \\frac{35}{4}$<br><br>\n",
    "<b>Tirando o mmc entre e somando $1 + \\frac{35}{4}$, temos que</b><br><br>\n",
    "$y^2 + 2y - 5x + \\frac{39}{4} = 0$<br><br>\n",
    "<b>Multiplicando por $4$</b><br><br>\n",
    "$4y^2 + 8y - 25x + 39 = 0$<br><br>\n",
    "<b>Gráfico da parábola</b>"
   ]
  },
  {
   "cell_type": "code",
   "execution_count": 2,
   "metadata": {},
   "outputs": [
    {
     "data": {
      "image/png": "[encoded data removed]",
      "text/plain": [
       "<matplotlib.figure.Figure at 0x1ac38aa9160>"
      ]
     },
     "metadata": {},
     "output_type": "display_data"
    }
   ],
   "source": [
    "from sympy import *\n",
    "from sympy.plotting import plot_implicit\n",
    "x, y = symbols(\"x y\")\n",
    "plot_implicit(Eq((y+1)**2, 5*(x-7/4)), (x,-20,20), (y,-20,20),\n",
    "title=u'Gráfico da parábola', xlabel='x', ylabel='y');"
   ]
  }
 ],
 "metadata": {
  "kernelspec": {
   "display_name": "Python 3",
   "language": "python",
   "name": "python3"
  },
  "language_info": {
   "codemirror_mode": {
    "name": "ipython",
    "version": 3
   },
   "file_extension": ".py",
   "mimetype": "text/x-python",
   "name": "python",
   "nbconvert_exporter": "python",
   "pygments_lexer": "ipython3",
   "version": "3.6.4"
  }
 },
 "nbformat": 4,
 "nbformat_minor": 2
}
