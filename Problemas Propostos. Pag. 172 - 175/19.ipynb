{
 "cells": [
  {
   "cell_type": "markdown",
   "metadata": {},
   "source": [
    "<b>Traçar um esboço do gráfico e obter uma equação da parábola que satisfaça as condições dadas.</b>"
   ]
  },
  {
   "cell_type": "markdown",
   "metadata": {},
   "source": [
    "<b>19. Vértice: $V(2,-1)$; Foco: $F(5,-1)$</b><br><br>"
   ]
  },
  {
   "cell_type": "markdown",
   "metadata": {},
   "source": [
    "<b>Como o vértice da parábola se encontra fora da origem e está paralela ao eixo $x$ a sua equação é dada por $(y-k)^2 = 2p(x-h)$</b><br><br>"
   ]
  },
  {
   "cell_type": "markdown",
   "metadata": {},
   "source": [
    "<b>Substituindo os pontos do vértice por $x = 2$ e $y = -1$</b><br><br>\n",
    "$(y-(-1))^2 = 2p(x-2))$<br><br>\n",
    "$(y+1)^2 = 2p(x-2)$<br><br>\n",
    "<b>Achando o valor de $p$</b><br><br>\n",
    "$\\frac{p}{2} = \\sqrt{(5-2)^2 + (-1-(-1))^2}$<br><br>\n",
    "$\\frac{p}{2} = \\sqrt{3^2 + 0}$<br><br>\n",
    "$\\frac{p}{2} = \\pm \\sqrt{9}$<br><br>\n",
    "$\\frac{p}{2} = 3$<br><br>\n",
    "$p = 6$<br><br>\n",
    "<b>Substituindo $p$ na fórmula</b><br><br>\n",
    "$(y+1)^2 = 2 \\cdot 6 (x-2)$<br><br>\n",
    "$(y+1)^2 = 12(x-2)$<br><br>\n",
    "$y^2 + 2y + 1 = 12x - 24$<br><br>\n",
    "$y^2 + 2y -12x +1 + 24 = 0$<br><br>\n",
    "$y^2 + 2y -12x + 25 = 0 $<br><br>\n",
    "<b>Gráfico da parábola</b><br><br>"
   ]
  },
  {
   "cell_type": "code",
   "execution_count": 4,
   "metadata": {},
   "outputs": [
    {
     "data": {
      "image/png": "[encoded data removed]",
      "text/plain": [
       "<matplotlib.figure.Figure at 0x243e41cad68>"
      ]
     },
     "metadata": {},
     "output_type": "display_data"
    }
   ],
   "source": [
    "from sympy import *\n",
    "from sympy.plotting import plot_implicit\n",
    "x, y = symbols(\"x y\")\n",
    "plot_implicit(Eq((y+1)**2, 6*(x-2)), (x,-20,20), (y,-10,10),\n",
    "title=u'Gráfico da parábola', xlabel='x', ylabel='y');"
   ]
  }
 ],
 "metadata": {
  "kernelspec": {
   "display_name": "Python 3",
   "language": "python",
   "name": "python3"
  },
  "language_info": {
   "codemirror_mode": {
    "name": "ipython",
    "version": 3
   },
   "file_extension": ".py",
   "mimetype": "text/x-python",
   "name": "python",
   "nbconvert_exporter": "python",
   "pygments_lexer": "ipython3",
   "version": "3.6.4"
  }
 },
 "nbformat": 4,
 "nbformat_minor": 2
}
