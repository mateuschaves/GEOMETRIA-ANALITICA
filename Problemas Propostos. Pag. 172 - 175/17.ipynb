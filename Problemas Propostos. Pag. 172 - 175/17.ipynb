{
 "cells": [
  {
   "cell_type": "markdown",
   "metadata": {},
   "source": [
    "<b>Traçar um esboço do gráfico e obter uma equação da parábola que satisfaça as condições dadas.</b>"
   ]
  },
  {
   "cell_type": "markdown",
   "metadata": {},
   "source": [
    "<b>17. Vértice: $V(0,0)$; Eixo $y=0$; Passa pelo ponto $(4,5)$</b><br><br>"
   ]
  },
  {
   "cell_type": "markdown",
   "metadata": {},
   "source": [
    "<b>Como a parábola é paralela ao eixo $x$ a equação que a representa é dada por </b>$y^2 = 2px$<br><br>\n",
    "<b>Substituindo os pontos dados na equação temos: </b><br><br>\n",
    "$5^2 = 2\\cdot p \\cdot 4$<br><br>\n",
    "$25 = 8p$<br><br>\n",
    "$\\frac{25}{8} = p$<br><br>\n",
    "<b>Encontrando o valor do foco</b><br><br>\n",
    "$F = \\frac{p}{2}$<br><br>\n",
    "$F = \\frac{\\frac{25}{8}}{2}$<br><br>\n",
    "$F = \\frac{25}{8} \\cdot \\frac{1}{2}$<br><br>\n",
    "$F = \\frac{25}{16}$<br><br>\n",
    "$F(\\frac{25}{16},0)$<br><br>\n",
    "<b>Encontrando o valor da diretriz</b><br><br>\n",
    "$D = -\\frac{p}{2}$<br><br>\n",
    "$D = -\\frac{25}{16}$<br><br>\n",
    "$D : x = \\frac{25}{16}$<br><br>\n",
    "<b>Montando a equação</b><br><br>\n",
    "$y^2 = 2 \\cdot \\frac{25}{8} \\cdot x$<br><br>\n",
    "$y^2 = \\frac{50}{8}x$<br><br>\n",
    "$y^2 = \\frac{25}{4}x$<br><br>\n",
    "<b>Gráfico da parábola</b><br><br>"
   ]
  },
  {
   "cell_type": "code",
   "execution_count": 4,
   "metadata": {},
   "outputs": [
    {
     "data": {
      "image/png": "[encoded data removed]",
      "text/plain": [
       "<matplotlib.figure.Figure at 0x1f34f7e25f8>"
      ]
     },
     "metadata": {},
     "output_type": "display_data"
    }
   ],
   "source": [
    "from sympy import *\n",
    "from sympy.plotting import plot_implicit\n",
    "x, y = symbols(\"x y\")\n",
    "plot_implicit(Eq((y-0)**2, 25/4*(x+0)), (x,-10,10), (y,-10,10),\n",
    "title=u'Gráfico da parábola', xlabel='x', ylabel='y');"
   ]
  }
 ],
 "metadata": {
  "kernelspec": {
   "display_name": "Python 3",
   "language": "python",
   "name": "python3"
  },
  "language_info": {
   "codemirror_mode": {
    "name": "ipython",
    "version": 3
   },
   "file_extension": ".py",
   "mimetype": "text/x-python",
   "name": "python",
   "nbconvert_exporter": "python",
   "pygments_lexer": "ipython3",
   "version": "3.6.4"
  }
 },
 "nbformat": 4,
 "nbformat_minor": 2
}
