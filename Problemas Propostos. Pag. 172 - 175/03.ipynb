{
 "cells": [
  {
   "cell_type": "markdown",
   "metadata": {},
   "source": [
    "<b>Construir o gráfico e encontrar o foco e uma equação da diretriz.</b>"
   ]
  },
  {
   "cell_type": "markdown",
   "metadata": {},
   "source": [
    "<b>3. $y^2 = -8x$</b>"
   ]
  },
  {
   "cell_type": "markdown",
   "metadata": {},
   "source": [
    "$2p = -8$,<b>logo</b><br><br>\n",
    "$p = -4$<br><br><br>\n",
    "<b>Calculando o foco</b><br><br>\n",
    "$F = \\frac{p}{2}$<br><br>\n",
    "$F = \\frac{-4}{2}$<br><br>\n",
    "$F = -2$<br><br>\n",
    "$F(-2,0)$<br><br><br>\n",
    "<b>Calculando a diretriz</b><br><br>\n",
    "$d = -\\frac{p}{2}$<br><br>\n",
    "$d = -(-2)$<br><br>\n",
    "$d : x = 2$<br><br>\n",
    "$V(0,0)$<br><br>\n",
    "$F(-2,0)$"
   ]
  },
  {
   "cell_type": "markdown",
   "metadata": {},
   "source": [
    "<b>Gráfico da parábola</b>"
   ]
  },
  {
   "cell_type": "code",
   "execution_count": 2,
   "metadata": {},
   "outputs": [
    {
     "data": {
      "image/png": "[encoded data removed]",
      "text/plain": [
       "<matplotlib.figure.Figure at 0x1ef27851240>"
      ]
     },
     "metadata": {},
     "output_type": "display_data"
    }
   ],
   "source": [
    "from sympy import *\n",
    "from sympy.plotting import plot_implicit\n",
    "x, y = symbols(\"x y\")\n",
    "plot_implicit(Eq((y-0)**2, -8*(x+0)), (x,-5,10), (y,-10,10),\n",
    "title=u'Gráfico da parábola', xlabel='x', ylabel='y');"
   ]
  }
 ],
 "metadata": {
  "kernelspec": {
   "display_name": "Python 3",
   "language": "python",
   "name": "python3"
  },
  "language_info": {
   "codemirror_mode": {
    "name": "ipython",
    "version": 3
   },
   "file_extension": ".py",
   "mimetype": "text/x-python",
   "name": "python",
   "nbconvert_exporter": "python",
   "pygments_lexer": "ipython3",
   "version": "3.6.4"
  }
 },
 "nbformat": 4,
 "nbformat_minor": 2
}
