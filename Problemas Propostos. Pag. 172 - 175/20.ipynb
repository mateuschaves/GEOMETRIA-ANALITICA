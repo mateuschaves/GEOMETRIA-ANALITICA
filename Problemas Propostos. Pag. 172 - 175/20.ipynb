{
 "cells": [
  {
   "cell_type": "markdown",
   "metadata": {},
   "source": [
    "<b>Traçar um esboço do gráfico e obter uma equação da parábola que satisfaça as condições dadas.</b>"
   ]
  },
  {
   "cell_type": "markdown",
   "metadata": {},
   "source": [
    "<b>20. Vértice: $V(4,1)$; diretriz $d: y + 3 = 0$</b><br><br>"
   ]
  },
  {
   "cell_type": "markdown",
   "metadata": {},
   "source": [
    "<b>Arrumando a equação da diretriz</b><br><br>\n",
    "$d: y = -3$<br><br>\n",
    "<b>Fazendo um esboço é possivel perceber que a parábola é paralela ao eixo $y$, logo sua équação é dada por $(x-h)^2 = 2p(y-k)$</b><br><br>\n",
    "<b>Substituindo os pontos do vértice por $x=4$ e $y=1$</b><br><br>\n",
    "$(x-4)^2 = 2p(y-1)$<br><br>\n",
    "<b>Achando o valor de $p$, utilizando a coordenada da diretriz $D(4,-3)$</b><br><br>\n",
    "$\\frac{p}{2} = \\sqrt{(4-4)^2 + (1-(-3)^2)}$<br><br>\n",
    "$\\frac{p}{2} = \\sqrt{0 + (4)^2}$<br><br>\n",
    "$\\frac{p}{2} = \\pm \\sqrt{16}$<br><br>\n",
    "$\\frac{p}{2} =  4$<br><br>\n",
    "$p=8$<br><br> \n",
    "<b>Substituindo o valor de $p$ na fórmula</b><br><br>\n",
    "$(x-4)^2 = 2 \\cdot 8 \\cdot (y-1)$<br><br>\n",
    "$(x-4)^2 = 16(y-1)$<br><br>\n",
    "$x^2 -8x + 16 = 16y -16$<br><br>\n",
    "$x^2 -8x -16y + 32 = 0$<br><br>\n",
    "<b>Gráfico da parábola</b><br><br>"
   ]
  },
  {
   "cell_type": "code",
   "execution_count": 6,
   "metadata": {},
   "outputs": [
    {
     "data": {
      "image/png": "[encoded data removed]",
      "text/plain": [
       "<matplotlib.figure.Figure at 0x2beca19b550>"
      ]
     },
     "metadata": {},
     "output_type": "display_data"
    }
   ],
   "source": [
    "from sympy import *\n",
    "from sympy.plotting import plot_implicit\n",
    "x, y = symbols(\"x y\")\n",
    "plot_implicit(Eq((x-4)**2, 16*(y-1)), (x,-20,20), (y,-10,20),\n",
    "title=u'Gráfico da parábola', xlabel='x', ylabel='y');"
   ]
  }
 ],
 "metadata": {
  "kernelspec": {
   "display_name": "Python 3",
   "language": "python",
   "name": "python3"
  },
  "language_info": {
   "codemirror_mode": {
    "name": "ipython",
    "version": 3
   },
   "file_extension": ".py",
   "mimetype": "text/x-python",
   "name": "python",
   "nbconvert_exporter": "python",
   "pygments_lexer": "ipython3",
   "version": "3.6.4"
  }
 },
 "nbformat": 4,
 "nbformat_minor": 2
}
