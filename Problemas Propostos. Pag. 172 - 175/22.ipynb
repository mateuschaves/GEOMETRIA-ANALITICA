{
 "cells": [
  {
   "cell_type": "markdown",
   "metadata": {},
   "source": [
    "<b>Traçar um esboço do gráfico e obter uma equação da parábola que satisfaça as condições dadas.</b>"
   ]
  },
  {
   "cell_type": "markdown",
   "metadata": {},
   "source": [
    "<b>22. Foco: $F(4,-5)$; diretriz $d: y = 1$</b>"
   ]
  },
  {
   "cell_type": "markdown",
   "metadata": {},
   "source": [
    "<b>Fazendo um esboço é possível perceber que a parábola é paralela ao eixo $x$, logo sua equação é dada por $(x-h)^2 = 2p(y-k)$</b><br><br>\n",
    "<b>Sabendo que a distância da diretriz até o foco é $p$, podemos calcular sua distância para achar $\\frac{p}{2}$ usando o ponto $P(4,1)$ da diretriz</b><br><br>\n",
    "$p = \\sqrt{(4-4)^2 + (-5-1)^2}$<br><br>\n",
    "$p = \\sqrt{0 + (-6)^2}$<br><br>\n",
    "$p = \\pm \\sqrt{36}$<br><br>\n",
    "$p = -6$<br><br>\n",
    "$\\frac{p}{2} = -3$<br><br>\n",
    "<b>Somando $\\frac{p}{2}$ no eixo $y$ da diretriz, obtemos as coordenadas do vértice</b><br><br>\n",
    "<b>Vértice:</b> $V(4, -2)$<b><br><br>\n",
    "<b>Substituindo agora os pontos dos vértice e o valor de $p$ na fórmula, temos que</b><br><br>\n",
    "$(x-4)^2 = 2 \\cdot -6 \\cdot (y+2)$<br><br>\n",
    "$(x-4)^2 = -12(y+2)$<br><br>\n",
    "$x^2 - 8x + 16 = -12y - 24$<br><br>\n",
    "$x^2 - 8x + 12y + 16 + 24$<br><br>\n",
    "$x^2 - 8x + 12y + 40$<br><br>"
   ]
  },
  {
   "cell_type": "markdown",
   "metadata": {},
   "source": [
    "<b>Gráfico da parábola</b>"
   ]
  },
  {
   "cell_type": "code",
   "execution_count": 2,
   "metadata": {},
   "outputs": [
    {
     "data": {
      "image/png": "[encoded data removed]",
      "text/plain": [
       "<matplotlib.figure.Figure at 0x285e72a8b38>"
      ]
     },
     "metadata": {},
     "output_type": "display_data"
    }
   ],
   "source": [
    "from sympy import *\n",
    "from sympy.plotting import plot_implicit\n",
    "x, y = symbols(\"x y\")\n",
    "plot_implicit(Eq((x-4)**2, -12*(y+2)), (x,-20,20), (y,-20,20),\n",
    "title=u'Gráfico da parábola', xlabel='x', ylabel='y');"
   ]
  }
 ],
 "metadata": {
  "kernelspec": {
   "display_name": "Python 3",
   "language": "python",
   "name": "python3"
  },
  "language_info": {
   "codemirror_mode": {
    "name": "ipython",
    "version": 3
   },
   "file_extension": ".py",
   "mimetype": "text/x-python",
   "name": "python",
   "nbconvert_exporter": "python",
   "pygments_lexer": "ipython3",
   "version": "3.6.4"
  }
 },
 "nbformat": 4,
 "nbformat_minor": 2
}
