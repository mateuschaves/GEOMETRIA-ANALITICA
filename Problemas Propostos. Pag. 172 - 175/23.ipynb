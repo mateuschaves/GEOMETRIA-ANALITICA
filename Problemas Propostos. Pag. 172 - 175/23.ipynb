{
 "cells": [
  {
   "cell_type": "markdown",
   "metadata": {},
   "source": [
    "<b>Traçar um esboço do gráfico e obter uma equação da parábola que satisfaça as condições dadas.</b>"
   ]
  },
  {
   "cell_type": "markdown",
   "metadata": {},
   "source": [
    "<b>23. Foco: $F(-7,3)$; diretriz: $x+3=0$</b>"
   ]
  },
  {
   "cell_type": "markdown",
   "metadata": {},
   "source": [
    "<b>Arrumando a equação da diretriz</b><br><br>\n",
    "$d: x = -3 $<br><br><br>\n",
    "<b>Fazendo um esboço é possível perceber que a parábola é paralela ao eixo $x$, logo sua equação é dada por $(y-k)^2 = 2p(x-h)$</b><br><br>\n",
    "\n",
    "<b>Sabendo que a distância da diretriz até o foco é $p$, podemos calcular sua distância para achar $\\frac{p}{2}$ usando o ponto$P(-3,3)$ da diretriz</b><br><br>\n",
    "$p = \\sqrt{(-7-(-3))^2 + (3-3)^2}$<br><br>\n",
    "$p = \\sqrt{-4^2 + 0}$<br><br>\n",
    "$p = \\pm \\sqrt{16}$<br><br>\n",
    "$p = -4$<br><br>\n",
    "$\\frac{p}{2} = -2$<br><br>\n",
    "<b>Somando $\\frac{p}{2}$ no eixo $x$ da diretriz, obtemos as coordenadas do vértice</b><br><br>\n",
    "$V(-5,3)$<br><br>\n",
    "<b>Substituindo agora os pontos dos vértice e o valor de $p$ na fórmula, temos que</b><br><br>\n",
    "$(y-3)^2 = 2 \\cdot -4 \\cdot (x+5)$<br><br>\n",
    "$(y-3)^2 = -8(x+5)$<br><br>\n",
    "$y^2 - 6y + 9 = -8x - 40$<br><br>\n",
    "$y^2 - 6y + 8x + 49 = 0$<br><br>\n",
    "<b>Gráfico da parábola</b>"
   ]
  },
  {
   "cell_type": "code",
   "execution_count": 4,
   "metadata": {},
   "outputs": [
    {
     "data": {
      "image/png": "[encoded data removed]",
      "text/plain": [
       "<matplotlib.figure.Figure at 0x22d4ec4ccc0>"
      ]
     },
     "metadata": {},
     "output_type": "display_data"
    }
   ],
   "source": [
    "from sympy import *\n",
    "from sympy.plotting import plot_implicit\n",
    "x, y = symbols(\"x y\")\n",
    "plot_implicit(Eq((y-3)**2, -8*(x+5)), (x,-20,20), (y,-20,20),\n",
    "title=u'Gráfico da parábola', xlabel='x', ylabel='y');"
   ]
  }
 ],
 "metadata": {
  "kernelspec": {
   "display_name": "Python 3",
   "language": "python",
   "name": "python3"
  },
  "language_info": {
   "codemirror_mode": {
    "name": "ipython",
    "version": 3
   },
   "file_extension": ".py",
   "mimetype": "text/x-python",
   "name": "python",
   "nbconvert_exporter": "python",
   "pygments_lexer": "ipython3",
   "version": "3.6.4"
  }
 },
 "nbformat": 4,
 "nbformat_minor": 2
}
