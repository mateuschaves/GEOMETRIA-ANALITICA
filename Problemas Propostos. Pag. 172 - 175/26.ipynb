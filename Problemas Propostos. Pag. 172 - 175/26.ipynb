{
 "cells": [
  {
   "cell_type": "markdown",
   "metadata": {},
   "source": [
    "<b>Traçar um esboço do gráfico e obter uma equação da parábola que satisfaça as condições dadas.</b>"
   ]
  },
  {
   "cell_type": "markdown",
   "metadata": {},
   "source": [
    "<b>26. Vértice $V(-2,3)$; eixo $x+2=0$, passando pelo ponto $P(2,0)$</b>"
   ]
  },
  {
   "cell_type": "markdown",
   "metadata": {},
   "source": [
    "<b>Sabendo que o eixo da parábola é representado por $x = -2$ pode-se perceber que seu eixo é paralelo a $y$ e sua função é representada por $(x-h)^2 = 2p(y-k)$</b><br><br>\n",
    "<b>Descobrindo o valor de $p$ substituindo $V(-2, 3)$ e $P(2,0)$</b><br><br>\n",
    "$(2-(-2)^2 = 2 \\cdot p \\cdot (0 - 3)$<br><br>\n",
    "$4^2 = -6p$<br><br>\n",
    "$16 = -6p$<br><br>\n",
    "$p = -\\frac{8}{3}$<br><br>\n",
    "<b>Substituindo os pontos na equação da parábola</b><br><br>\n",
    "$(x-(-2))^2 = 2 \\cdot -\\frac{8}{3}(y-3)$<br><br>\n",
    "$(x+2)^2 = -\\frac{16}{3}(y-3)$<br><br>\n",
    "$x^2 + 4x + 4 = -\\frac{16}{3}y + \\frac{48}{3}$<br><br>\n",
    "$x^2 + 4x + \\frac{16}{3}y - \\frac{48}{3} + 4 = 0$<br><br>\n",
    "$x^2 + 4x + \\frac{16}{3}y - \\frac{36}{3} = 0$<br><br>\n",
    "<b>Multiplicando por $3$</b><br><br>\n",
    "$3x^2 + 12x + 16 - 36 = 0$<br><br>\n",
    "<b>Gráfico da parábola</b>"
   ]
  },
  {
   "cell_type": "code",
   "execution_count": 2,
   "metadata": {},
   "outputs": [
    {
     "data": {
      "image/png": "[encoded data removed]",
      "text/plain": [
       "<matplotlib.figure.Figure at 0x25b18587390>"
      ]
     },
     "metadata": {},
     "output_type": "display_data"
    }
   ],
   "source": [
    "from sympy import *\n",
    "from sympy.plotting import plot_implicit\n",
    "x, y = symbols(\"x y\")\n",
    "plot_implicit(Eq((x+2)**2, -16/3*(y-3)), (x,-20,20), (y,-20,20),\n",
    "title=u'Gráfico da parábola', xlabel='x', ylabel='y');"
   ]
  }
 ],
 "metadata": {
  "kernelspec": {
   "display_name": "Python 3",
   "language": "python",
   "name": "python3"
  },
  "language_info": {
   "codemirror_mode": {
    "name": "ipython",
    "version": 3
   },
   "file_extension": ".py",
   "mimetype": "text/x-python",
   "name": "python",
   "nbconvert_exporter": "python",
   "pygments_lexer": "ipython3",
   "version": "3.6.4"
  }
 },
 "nbformat": 4,
 "nbformat_minor": 2
}
