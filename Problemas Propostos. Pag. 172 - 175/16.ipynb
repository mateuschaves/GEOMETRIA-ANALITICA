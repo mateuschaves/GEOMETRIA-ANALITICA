{
 "cells": [
  {
   "cell_type": "markdown",
   "metadata": {},
   "source": [
    "<b>Traçar um esboço do gráfico e obter uma equação da parábola que satisfaça as condições dadas.</b>"
   ]
  },
  {
   "cell_type": "markdown",
   "metadata": {},
   "source": [
    "<b>16. Vértice: $V(0,0)$; Simetria em relação ao eixo dos y e passa pelo ponto $P(2,-3)$</b><br><br>"
   ]
  },
  {
   "cell_type": "markdown",
   "metadata": {},
   "source": [
    "<b>Se a parábola é paralela ao eixo dos $y$ a equação utilizada é $x^2 = 2py$</b><br><br>\n",
    "<b>Substituindo os pontos na equação para achar o $p$</b><br><br>\n",
    "$2^2 = 2\\cdot p \\cdot -3$<br><br>\n",
    "$4 = -6p$<br><br>\n",
    "$-\\frac{4}{6} = p$<br><br>\n",
    "$-\\frac{2}{3} = p$<br><br>\n",
    "<b>Achando o foco</b><br><br>\n",
    "$F = \\frac{p}{2}$<br><br>\n",
    "$F = \\frac{-\\frac{2}{3}}{2}$<br><br>\n",
    "$F = -\\frac{2}{3} \\cdot \\frac{1}{2}$<br><br>\n",
    "$F = -\\frac{2}{6}$<br><br>\n",
    "$F = -\\frac{1}{3}$<br><br><br>\n",
    "<b>Achando a diretriz</b><br><br>\n",
    "$D = -\\frac{p}{2}$<br><br>\n",
    "$D = -(-\\frac{1}{3})$<br><br>\n",
    "$D : y = \\frac{1}{3}$<br><br><br>\n",
    "<b>Montando a equação</b><br><br>\n",
    "$x^2 = 2 \\cdot (-\\frac{2}{3}) \\cdot y$<br><br>\n",
    "$x^2 = -\\frac{4}{3}y\\,$ ou $\\,3x^2 + 4y = 0$<br><br><br>\n",
    "<b>Gráfico da parábola</b><br><br>"
   ]
  },
  {
   "cell_type": "code",
   "execution_count": 4,
   "metadata": {},
   "outputs": [
    {
     "data": {
      "image/png": "[encoded data removed]",
      "text/plain": [
       "<matplotlib.figure.Figure at 0x17eda363550>"
      ]
     },
     "metadata": {},
     "output_type": "display_data"
    }
   ],
   "source": [
    "from sympy import *\n",
    "from sympy.plotting import plot_implicit\n",
    "x, y = symbols(\"x y\")\n",
    "plot_implicit(Eq((x-0)**2, -4/3*(y+0)), (x,-10,10), (y,-10,10),\n",
    "title=u'Gráfico da parábola', xlabel='x', ylabel='y');"
   ]
  }
 ],
 "metadata": {
  "kernelspec": {
   "display_name": "Python 3",
   "language": "python",
   "name": "python3"
  },
  "language_info": {
   "codemirror_mode": {
    "name": "ipython",
    "version": 3
   },
   "file_extension": ".py",
   "mimetype": "text/x-python",
   "name": "python",
   "nbconvert_exporter": "python",
   "pygments_lexer": "ipython3",
   "version": "3.6.4"
  }
 },
 "nbformat": 4,
 "nbformat_minor": 2
}
