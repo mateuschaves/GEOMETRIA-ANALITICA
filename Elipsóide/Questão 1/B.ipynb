{
 "cells": [
  {
   "cell_type": "markdown",
   "metadata": {},
   "source": [
    "<b>Determinar uma equação da superfície esférica de centro $C$ e raio $r$, nos casos:</b>"
   ]
  },
  {
   "cell_type": "markdown",
   "metadata": {},
   "source": [
    "<b>b) $C(2, 4, -1), r = 3$</b>"
   ]
  },
  {
   "cell_type": "markdown",
   "metadata": {},
   "source": [
    "<b>Fórmula do elipsóide</b>"
   ]
  },
  {
   "cell_type": "markdown",
   "metadata": {},
   "source": [
    "$\\frac{(x - h)^2}{a^2} + \\frac{(y - k)^2}{b^2} + \\frac{(z - l)^2}{c^2} = 1$"
   ]
  },
  {
   "cell_type": "markdown",
   "metadata": {},
   "source": [
    "<b>Se a superfície é esférica, $a = b = c$:</b>"
   ]
  },
  {
   "cell_type": "markdown",
   "metadata": {},
   "source": [
    "$\\frac{(x - h)^2}{a^2} + \\frac{(y - k)^2}{a^2} + \\frac{(z - l)^2}{a^2} = 1$"
   ]
  },
  {
   "cell_type": "markdown",
   "metadata": {},
   "source": [
    "<b>Multiplicando tudo por  $a^2$:</b>"
   ]
  },
  {
   "cell_type": "markdown",
   "metadata": {},
   "source": [
    "$(x - h)^2 + (y - k)^2 + (z - l)^2 = a^2$"
   ]
  },
  {
   "cell_type": "markdown",
   "metadata": {},
   "source": [
    "$C(h, k, l) \\rightarrow h = 2, k = 4, l = -1$"
   ]
  },
  {
   "cell_type": "markdown",
   "metadata": {},
   "source": [
    "<b>Substituindo os valores de $x$, $k$ e $h$ na fórmula: </b>"
   ]
  },
  {
   "cell_type": "markdown",
   "metadata": {},
   "source": [
    "$(x - 2)^2 + (y - 4)^2 + (z + 1)^2 = 3^2$"
   ]
  },
  {
   "cell_type": "markdown",
   "metadata": {},
   "source": [
    "$x^2 - 4x + 4 + y^2 - 8y + 16 + z^2 + 2z + 1 = 9$"
   ]
  },
  {
   "cell_type": "markdown",
   "metadata": {},
   "source": [
    "$x^2 - 4x + y^2 - 8y + z^2 + 2z + 4 + 16 + 1 = 9 $"
   ]
  },
  {
   "cell_type": "markdown",
   "metadata": {},
   "source": [
    "$x^2 - 4x + y^2 - 8y + z^2 + 2z + 12 = 0 $"
   ]
  }
 ],
 "metadata": {
  "kernelspec": {
   "display_name": "Python 3",
   "language": "python",
   "name": "python3"
  },
  "language_info": {
   "codemirror_mode": {
    "name": "ipython",
    "version": 3
   },
   "file_extension": ".py",
   "mimetype": "text/x-python",
   "name": "python",
   "nbconvert_exporter": "python",
   "pygments_lexer": "ipython3",
   "version": "3.6.5"
  }
 },
 "nbformat": 4,
 "nbformat_minor": 2
}
