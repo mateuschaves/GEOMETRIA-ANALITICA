{
 "cells": [
  {
   "cell_type": "markdown",
   "metadata": {},
   "source": [
    "<b>Encontre um vetor unitário  que seja ortogonal a:</b><br><br>"
   ]
  },
  {
   "cell_type": "markdown",
   "metadata": {},
   "source": [
    "<b>b)</b> $\\vec u = (2,1,0)$ e $\\vec v = (0,1,3)$<br><br>\n",
    "\n",
    "<b>Realizar o produto escalar entre $\\vec u$ e $\\vec v$</b><br><br>\n",
    "$\\vec u\\,  x \\,  \\vec v = (3-0, -[6-0],2-0)$<br><br>\n",
    "$\\vec u\\,  x \\,  \\vec v = (3,-6,2)$<br><br>\n",
    "<b>Calcular a norma do produto vetorial</b><br><br>\n",
    "$||\\, \\, \\vec u \\, x \\, \\vec v\\, \\,|| = \\sqrt{ 3^2 + (-6)^2 + 2^2}$<br><br>\n",
    "$||\\, \\, \\vec u \\, x \\, \\vec v\\, \\,|| = \\sqrt{9+36+4}$<br><br>\n",
    "$||\\, \\, \\vec u \\, x \\, \\vec v\\, \\,|| = \\sqrt{49}$<br><br>\n",
    "$||\\, \\, \\vec u \\, x \\, \\vec v\\, \\,|| = 7$<br><br>\n",
    "<b>Realizar a divisão do produto vetorial pela normal do produto vetorial</b><br><br>\n",
    "$\\frac{\\vec u\\,  x \\,  \\vec v}{||\\, \\, \\vec u \\, x \\, \\vec v\\, \\,||} = (\\frac{3}{7}, -\\frac{6}{7}, \\frac{2}{7})$<br><br>\n",
    "\n",
    "<b>O vetor abaixo é unitário e ortogonal a $\\vec u$ e $\\vec v$, simultaneamente:</b><br><br>\n",
    "$\\frac{\\vec u\\,  x \\,  \\vec v}{||\\, \\, \\vec u \\, x \\, \\vec v\\, \\,||} = (\\frac{3}{7}, -\\frac{6}{7}, \\frac{2}{7})$\n"
   ]
  }
 ],
 "metadata": {
  "kernelspec": {
   "display_name": "Python 3",
   "language": "python",
   "name": "python3"
  },
  "language_info": {
   "codemirror_mode": {
    "name": "ipython",
    "version": 3
   },
   "file_extension": ".py",
   "mimetype": "text/x-python",
   "name": "python",
   "nbconvert_exporter": "python",
   "pygments_lexer": "ipython3",
   "version": "3.6.4"
  }
 },
 "nbformat": 4,
 "nbformat_minor": 2
}
