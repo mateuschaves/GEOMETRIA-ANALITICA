{
 "cells": [
  {
   "cell_type": "markdown",
   "metadata": {},
   "source": [
    "<b>Encontre um vetor unitário  que seja ortogonal a:</b><br><br>"
   ]
  },
  {
   "cell_type": "markdown",
   "metadata": {},
   "source": [
    "<b>a)</b> $\\vec u = (1,0,1)$ e $\\vec v = (0,1,1)$<br><br>\n",
    "\n",
    "<b>Realizar o produto escalar entre $\\vec u$ e $\\vec v$</b><br><br>\n",
    "$\\vec u\\,  x \\,  \\vec v = (0-1, -[1-0],1-0)$<br><br>\n",
    "$\\vec u\\,  x \\,  \\vec v = (-1,-1,1)$<br><br>\n",
    "<b>Calcular a norma do produto vetorial</b><br><br>\n",
    "$||\\, \\, \\vec u \\, x \\, \\vec v\\, \\,|| = \\sqrt{ (-1)^2 + (-1)^2 + 1^2}$<br><br>\n",
    "$||\\, \\, \\vec u \\, x \\, \\vec v\\, \\,|| = \\sqrt{1+1+1}$<br><br>\n",
    "$||\\, \\, \\vec u \\, x \\, \\vec v\\, \\,|| = \\sqrt{3}$<br><br>\n",
    "<b>Realizar a divisão do produto vetorial pela normal do produto vetorial</b><br><br>\n",
    "$\\frac{\\vec u\\,  x \\,  \\vec v}{||\\, \\, \\vec u \\, x \\, \\vec v\\, \\,||} = (-\\frac{1}{\\sqrt{3}}, -\\frac{1}{\\sqrt{3}}, \\frac{1}{\\sqrt{3}})$<br><br>\n",
    "\n",
    "<b>O vetor abaixo é unitário e ortogonal a $\\vec u$ e $\\vec v$, simultaneamente:</b><br><br>\n",
    "$\\frac{\\vec u\\,  x \\,  \\vec v}{||\\, \\, \\vec u \\, x \\, \\vec v\\, \\,||} = (-\\frac{1}{\\sqrt{3}}, -\\frac{1}{\\sqrt{3}}, \\frac{1}{\\sqrt{3}})$\n"
   ]
  }
 ],
 "metadata": {
  "kernelspec": {
   "display_name": "Python 3",
   "language": "python",
   "name": "python3"
  },
  "language_info": {
   "codemirror_mode": {
    "name": "ipython",
    "version": 3
   },
   "file_extension": ".py",
   "mimetype": "text/x-python",
   "name": "python",
   "nbconvert_exporter": "python",
   "pygments_lexer": "ipython3",
   "version": "3.6.4"
  }
 },
 "nbformat": 4,
 "nbformat_minor": 2
}
