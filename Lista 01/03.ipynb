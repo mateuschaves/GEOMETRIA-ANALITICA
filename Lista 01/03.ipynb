{
 "cells": [
  {
   "cell_type": "markdown",
   "metadata": {},
   "source": [
    "<b>3. Calcular os ângulos de um triângulo de vértices: </b>$A(0,-1)$, $B(1,-2)$, $C(4,1)$<br><br>\n",
    "\n",
    "<b>Achando os vetores $\\vec {AB}$, $\\vec{AC}$ e $\\vec{BC}$</b><br><br>\n",
    "$\\vec {AB} = B(1,-2) -  A(0,-1) = (1,-1)$<br><br>\n",
    "$\\vec {AC} = C(4,1)  -  A(0,-1) = (4,2)$<br><br>\n",
    "$\\vec {BC} = C(4,1)  -  B(1,-2) = (3,3)$<br><br>\n",
    "\n",
    "<b>Módulos</b><br><br>\n",
    "$||\\vec{AB}|| = \\sqrt{2}$<br><br>\n",
    "$||\\vec{AC}|| = \\sqrt{20}$<br><br>\n",
    "$||\\vec{BC}|| = \\sqrt{18}$<br><br>\n",
    "\n"
   ]
  },
  {
   "cell_type": "markdown",
   "metadata": {},
   "source": [
    "<b>Produto escalar de $\\vec{AB}\\cdot \\vec{AC}$</b><br><br>\n",
    "$\\vec{AB}\\cdot \\vec{AC} = 4 - 2 = 2$<br><br>\n",
    "\n",
    "$\\cos a = |\\frac{\\vec{AB} \\cdot \\vec{AC}}{||\\vec{AB}||\\cdot||\\vec{AC}||}|$<br><br>\n",
    "$\\cos a = \\frac{2}{\\sqrt{2}\\cdot \\sqrt{20}}$<br><br>\n",
    "$\\cos a = \\frac{2}{\\sqrt{40}}$<br><br>\n",
    "$a = \\cos^{-1}(\\frac{2}{\\sqrt{40}})$<br><br>\n",
    "$a = 71.56$<br><br>\n",
    "\n",
    "<b>Produto escalar de $\\vec{AB} \\cdot \\vec{BC}$</b><br><br>\n",
    "\n",
    "$\\vec{AB} \\cdot \\vec{BC} = 3 - 3$<br><br>\n",
    "$\\cos b = 0$<br><br>\n",
    "$b = \\cos^{-1}(0)$<br><br>\n",
    "$b = 90$<br><br>\n",
    "\n",
    "<b>Como a soma dos ângulos internos de um triângulo é $180°$, temos que:</b><br><br>\n",
    "$180 = 71.56 + 90 + \\delta$<br><br>\n",
    "$180 = 161.56 + \\delta$<br><br>\n",
    "$180 - 161.56 = \\delta$<br><br>\n",
    "$18.44 = \\delta$<br><br><br>\n",
    "\n",
    "<b>Os ângulos internos do triângulo são:<br><br><br>\n",
    "$a = 71.56$<br><br>\n",
    "$b = 90$<br><br>\n",
    "$c = 18.44$<br><br>"
   ]
  }
 ],
 "metadata": {
  "kernelspec": {
   "display_name": "Python 3",
   "language": "python",
   "name": "python3"
  },
  "language_info": {
   "codemirror_mode": {
    "name": "ipython",
    "version": 3
   },
   "file_extension": ".py",
   "mimetype": "text/x-python",
   "name": "python",
   "nbconvert_exporter": "python",
   "pygments_lexer": "ipython3",
   "version": "3.6.4"
  }
 },
 "nbformat": 4,
 "nbformat_minor": 2
}
