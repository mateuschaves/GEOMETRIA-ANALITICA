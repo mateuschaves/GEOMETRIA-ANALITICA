{
 "cells": [
  {
   "cell_type": "markdown",
   "metadata": {},
   "source": [
    "<b>1. Encontre $5$ vetores não nulos, distintos, que são ortogonais a $u = (5, -2, 3)$.</b>"
   ]
  },
  {
   "cell_type": "markdown",
   "metadata": {},
   "source": [
    "<b>Pela definição, temos que $2$ vetores são ortogonais se e somente se o seu produto escalar for igual a $0$.</b><br><br>\n",
    "<b>Chamando de $\\vec v(x,y,z)$ o vetor desejado que seja ortogonal a $\\vec u$, calculando o produto escalar e igualando a $0$, temos que:</b><br><br>\n",
    "\n",
    "$\\vec v \\cdot \\vec u = (x,y,z)\\cdot(5,-2,3) = 0$<br><br>\n",
    "$\\vec v \\cdot \\vec u = 5x -2y + 3z = 0$<br><br>\n",
    "<b>Atribuindo valores aleatórios para $x$ e $y$ podemos encontrar o valor de $z$ que satisfaz a igualdade $5x -2y + 3z = 0$</b><br><br>\n",
    "\n",
    "<b>Atribuindo $1$ para $x$ e $2$ para $y$, chegamos a seguinte expressão: </b><br><br>\n",
    "$5\\cdot(1) -2\\cdot(2) + 3z = 0$<br><br>\n",
    "$5 - 4 + 3z = 0$<br><br>\n",
    "$1 + 3z = 0$<br><br>\n",
    "$3z = -1$<br><br>\n",
    "$z = -\\frac{1}{3}$<br><br>\n",
    "<b>Encontrando o valor de $z$, achamos todos o valores de um vetor ortogonal a $u$</b><br><br>\n",
    "$v_1 = (1,2,-\\frac{1}{3})$<br><br>\n",
    "<b>Repetir esse processo até achar $5$ vetores ortogonais a $u$.</b>"
   ]
  }
 ],
 "metadata": {
  "kernelspec": {
   "display_name": "Python 3",
   "language": "python",
   "name": "python3"
  },
  "language_info": {
   "codemirror_mode": {
    "name": "ipython",
    "version": 3
   },
   "file_extension": ".py",
   "mimetype": "text/x-python",
   "name": "python",
   "nbconvert_exporter": "python",
   "pygments_lexer": "ipython3",
   "version": "3.6.4"
  }
 },
 "nbformat": 4,
 "nbformat_minor": 2
}
